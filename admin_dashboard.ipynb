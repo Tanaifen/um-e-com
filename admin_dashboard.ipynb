{
  "nbformat": 4,
  "nbformat_minor": 0,
  "metadata": {
    "colab": {
      "provenance": [],
      "authorship_tag": "ABX9TyNbNAJiHkM0fYk/QqPnM8U8",
      "include_colab_link": true
    },
    "kernelspec": {
      "name": "python3",
      "display_name": "Python 3"
    },
    "language_info": {
      "name": "python"
    }
  },
  "cells": [
    {
      "cell_type": "markdown",
      "metadata": {
        "id": "view-in-github",
        "colab_type": "text"
      },
      "source": [
        "<a href=\"https://colab.research.google.com/github/Tanaifen/um-e-com/blob/main/admin_dashboard.ipynb\" target=\"_parent\"><img src=\"https://colab.research.google.com/assets/colab-badge.svg\" alt=\"Open In Colab\"/></a>"
      ]
    },
    {
      "cell_type": "code",
      "execution_count": null,
      "metadata": {
        "id": "s1n7I-MdlEDc"
      },
      "outputs": [],
      "source": [
        "import streamlit as st\n",
        "import pandas as pd\n",
        "import matplotlib.pyplot as plt\n",
        "\n",
        "st.set_page_config(page_title=\"Admin Dashboard\", layout=\"wide\")\n",
        "st.title(\"📊 E-Commerce Survey Admin Dashboard\")\n",
        "\n",
        "# Load responses\n",
        "try:\n",
        "    df = pd.read_csv(\"responses.csv\")\n",
        "    st.success(f\"Loaded {len(df)} responses.\")\n",
        "except FileNotFoundError:\n",
        "    st.error(\"No survey data found. Please submit some responses first.\")\n",
        "    st.stop()\n",
        "\n",
        "# Filters\n",
        "with st.sidebar:\n",
        "    st.header(\"🔍 Filters\")\n",
        "    age_filter = st.multiselect(\"Filter by Age\", df['age'].unique())\n",
        "    gender_filter = st.multiselect(\"Filter by Gender\", df['gender'].unique())\n",
        "\n",
        "# Apply filters\n",
        "if age_filter:\n",
        "    df = df[df['age'].isin(age_filter)]\n",
        "if gender_filter:\n",
        "    df = df[df['gender'].isin(gender_filter)]\n",
        "\n",
        "# Display stats\n",
        "st.subheader(\"🧮 Summary Statistics\")\n",
        "st.write(df.describe(include='all'))\n",
        "\n",
        "# Pie chart: Shopping Frequency\n",
        "st.subheader(\"🛍️ Shopping Frequency\")\n",
        "fig1, ax1 = plt.subplots()\n",
        "df['shop_freq'].value_counts().plot.pie(autopct='%1.1f%%', ax=ax1)\n",
        "ax1.set_ylabel(\"\")\n",
        "st.pyplot(fig1)\n",
        "\n",
        "# Bar chart: Satisfaction\n",
        "st.subheader(\"😊 Satisfaction Levels\")\n",
        "st.bar_chart(df['satisfaction'].value_counts().sort_index())\n",
        "\n",
        "# Net Promoter Score (Q9)\n",
        "st.subheader(\"📈 Recommendation (NPS)\")\n",
        "st.bar_chart(df['recommendation'].value_counts().sort_index())\n",
        "\n",
        "# Optional: Download data\n",
        "st.subheader(\"📥 Download Responses\")\n",
        "st.download_button(\"Download CSV\", df.to_csv(index=False), \"survey_data.csv\")"
      ]
    }
  ]
}