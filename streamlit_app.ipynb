{
  "nbformat": 4,
  "nbformat_minor": 0,
  "metadata": {
    "colab": {
      "provenance": [],
      "name": "streamlit_app.ipynb",
      "authorship_tag": "ABX9TyNsrbJkIrDevxA2aYqYxVS1",
      "include_colab_link": true
    },
    "kernelspec": {
      "name": "python3",
      "display_name": "Python 3"
    },
    "language_info": {
      "name": "python"
    }
  },
  "cells": [
    {
      "cell_type": "markdown",
      "metadata": {
        "id": "view-in-github",
        "colab_type": "text"
      },
      "source": [
        "<a href=\"https://colab.research.google.com/github/Tanaifen/um-e-com/blob/main/streamlit_app.ipynb\" target=\"_parent\"><img src=\"https://colab.research.google.com/assets/colab-badge.svg\" alt=\"Open In Colab\"/></a>"
      ]
    },
    {
      "cell_type": "code",
      "execution_count": null,
      "metadata": {
        "id": "8CPYjiK15Gb0"
      },
      "outputs": [],
      "source": [
        "import streamlit as st\n",
        "\n",
        "# Page config\n",
        "st.set_page_config(page_title=\"E-Commerce Survey\", layout=\"centered\")\n",
        "st.title(\"🛒 E-Commerce Efficiency & Satisfaction Survey 🛒\")\n",
        "\n",
        "# Introduction\n",
        "st.markdown(\"\"\"\n",
        "### 🎓 Survey Introduction\n",
        "\n",
        "This survey is conducted as part of the research project titled:\n",
        "**\"Quantitative Evaluation of E-Commerce Efficiency and Customer Satisfaction Using Machine Learning Techniques.\"**\n",
        "\n",
        "The purpose of this study is to evaluate the factors influencing online shopping satisfaction, understand user perceptions, identify barriers to adoption, and gather suggestions to improve the online shopping experience.\n",
        "\n",
        "Your responses will be kept confidential and used solely for academic purposes.\n",
        "Thank you for your valuable input!\n",
        "\"\"\")\n",
        "\n",
        "# Add researcher details separately\n",
        "st.markdown(\"\"\"\n",
        "**Tan Ai Fen (22115538)**<br>\n",
        "**Postgraduate Student**<br>\n",
        "**Faculty of Computer Science and Information Technology**<br>\n",
        "**University of Malaya**\n",
        "\"\"\", unsafe_allow_html=True)\n",
        "\n",
        "st.markdown(\"---\")\n",
        "\n",
        "# Section 1: Basic Information\n",
        "st.header(\"Section 1: Basic Information\")\n",
        "age = st.selectbox(\"Age:\", [\"<18\", \"18–25\", \"26–35\", \"36–50\", \"50+\"])\n",
        "gender = st.radio(\"Gender:\", [\"Male\", \"Female\", \"Prefer not to say\", \"Other\"])\n",
        "shop_freq = st.radio(\"How often do you shop online?\", [\"Daily\", \"Weekly\", \"Monthly\", \"Rarely\", \"Never\"])\n",
        "\n",
        "# Section 2: User Perception & Value\n",
        "st.header(\"Section 2: User Perception & Value\")\n",
        "satisfaction = st.slider(\"Q1. How satisfied are you with your overall online shopping experience?\", 1, 5)\n",
        "value_factors = st.multiselect(\"Q2. What do you value most in online shopping?\",\n",
        "    [\"Price\", \"Product quality\", \"Fast delivery\", \"Easy return policy\",\n",
        "     \"Good customer service\", \"Secure payment\", \"Easy-to-use website/app\"])\n",
        "time_saving = st.radio(\"Q3. Online shopping saves me time and effort.\",\n",
        "                       [\"Strongly Disagree\", \"Disagree\", \"Neutral\", \"Agree\", \"Strongly Agree\"])\n",
        "tech_issues = st.radio(\"Q4. How often do technical issues affect your experience?\",\n",
        "                       [\"Very Often\", \"Sometimes\", \"Rarely\", \"Never\"])\n",
        "\n",
        "# Section 3: Barriers & Non-Adoption\n",
        "st.header(\"Section 3: Barriers & Non-Adoption\")\n",
        "avoid_online = st.radio(\"Q5. Have you ever avoided buying online despite the product being available?\", [\"Yes\", \"No\"])\n",
        "avoid_reasons = []\n",
        "if avoid_online == \"Yes\":\n",
        "    avoid_reasons = st.multiselect(\"If YES, why?\",\n",
        "        [\"Trust issues\", \"Prefer in-store\", \"Complicated process\", \"Delivery takes too long\", \"Payment issues\"])\n",
        "barriers = st.multiselect(\"Q6. What prevents you from shopping online more often?\",\n",
        "    [\"Hidden costs\", \"Lack of trust\", \"Long delivery time\",\n",
        "     \"Prefer to see the item\", \"Poor customer service\"])\n",
        "trust_payment = st.slider(\"Q7. How much do you trust online payment systems?\", 1, 5)\n",
        "\n",
        "# Section 4: Suggestions\n",
        "st.header(\"Section 4: Improvement & Suggestions\")\n",
        "encouragement = st.multiselect(\"Q8. What would encourage you to shop more online? (Choose top 3)\",\n",
        "    [\"Faster shipping\", \"Better return process\", \"Lower prices\", \"Live chat/help\",\n",
        "     \"Verified reviews\", \"Secure payment options\"])\n",
        "recommendation = st.slider(\"Q9. On a scale of 0–10, how likely are you to recommend online shopping to a friend?\", 0, 10)\n",
        "trust_features = st.multiselect(\"Q10. What features would increase your trust in an online store?\",\n",
        "    [\"Seller ratings\", \"Return centers\", \"Secure checkout\", \"Verified reviews\"])\n",
        "additional_comments = st.text_area(\"Q11. (Optional) Any additional comments or suggestions to improve online shopping?\")\n",
        "\n",
        "if st.button(\"Submit Survey\"):\n",
        "    st.success(\"✅ Thank you for your response! Your feedback has been recorded.\")"
      ]
    }
  ]
}